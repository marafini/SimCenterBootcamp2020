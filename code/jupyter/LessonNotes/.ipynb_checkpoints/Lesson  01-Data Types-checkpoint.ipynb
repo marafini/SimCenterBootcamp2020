{
 "cells": [
  {
   "cell_type": "markdown",
   "metadata": {},
   "source": [
    "# A Python Quick Start Tutorial\n",
    "# Lesson \\#1: Basic data types and functions\n",
    "## by Peter Mackenzie-Helnwein\n",
    "University of Washington, Seattle, WA\n",
    "\n",
    "pmackenz@uw.edu          \n",
    "https://www.ce.washington.edu/facultyfinder/peter-mackenzie-helnwein"
   ]
  },
  {
   "cell_type": "markdown",
   "metadata": {},
   "source": [
    "## Resources\n",
    "\n",
    "   1. Python Docs: https://docs.python.org/3/\n",
    "   \n",
    "   1. Python Tutorial (comprehensive): https://docs.python.org/3/tutorial/index.html\n",
    "   \n",
    "   1. Python Library Reference (the nitty-gritty details): https://docs.python.org/3/library/index.html\n",
    "   \n",
    "   1. Everything else: http://google.com\n",
    "   "
   ]
  },
  {
   "cell_type": "markdown",
   "metadata": {},
   "source": [
    "## Discussing questions from the self-study assignment\n",
    "\n",
    "This section is to discuss your questions\n"
   ]
  },
  {
   "cell_type": "markdown",
   "metadata": {},
   "source": [
    "### Exercise 1\n",
    "\n",
    "**Theory**:\n",
    "Stress transformation\n",
    "\n",
    "$$\n",
    "\\begin{aligned}\n",
    "\\sigma_{x}' &= \\sigma_{x} \\cos^2\\theta + \\sigma_{y} \\sin^2\\theta + 2\\tau_{xy} \\sin\\theta \\cos\\theta \\\\\n",
    "\\sigma_{y}' &= \\sigma_{x} \\sin^2\\theta + \\sigma_{y} \\cos^2\\theta - 2\\tau_{xy} \\sin\\theta \\cos\\theta \\\\\n",
    "\\tau_{xy}'  &= (\\sigma_{y} - \\sigma_{x}) \\sin\\theta \\cos\\theta + \\tau_{xy} (\\cos^2\\theta - \\sin^2\\theta) \\\\\n",
    "\\end{aligned}\n",
    "$$\n",
    "\n",
    "**Given**:\n",
    "Stress state:\n",
    "\n",
    "$$\n",
    "\\sigma_{x} = 12~ksi~,\n",
    "~~~\n",
    "\\sigma_{y} = -5.5~ksi~,\n",
    "~~~\n",
    "\\tau_{xy} = 3.5~ksi \n",
    "$$\n",
    "\n",
    "**Find**:\n",
    "Components of stress in a rotated coordinate system for $\\theta=25^\\circ$."
   ]
  },
  {
   "cell_type": "code",
   "execution_count": 10,
   "metadata": {},
   "outputs": [],
   "source": [
    "# theta needs to be in radians\n",
    "# sin and cos are not part of phython\n",
    "\n",
    "from math import sin, cos, pi, radians"
   ]
  },
  {
   "cell_type": "code",
   "execution_count": 11,
   "metadata": {},
   "outputs": [
    {
     "data": {
      "text/plain": [
       "1.5707963267948966"
      ]
     },
     "execution_count": 11,
     "metadata": {},
     "output_type": "execute_result"
    }
   ],
   "source": [
    "radians(90)"
   ]
  },
  {
   "cell_type": "code",
   "execution_count": 12,
   "metadata": {},
   "outputs": [
    {
     "name": "stdout",
     "output_type": "stream",
     "text": [
      "Stress state (sigx_i, sigy_i, txy_i)= 11.555547135673642 -5.055547135673642 -4.453132243388171 ksi\n",
      "sigma_x =  12.0000 ksi\n",
      "sigma_y =  -5.5000 ksi\n",
      "tau_xy =  12.0000 ksi\n",
      "sigma_x_i =  12.0000 ksi\n",
      "sigma_y_i =  12.0000 ksi\n",
      "tau_xy_i =  12.0000 ksi\n"
     ]
    }
   ],
   "source": [
    "sigx = 12.0\n",
    "sigy = -5.5\n",
    "txy = 3.5\n",
    "theta = radians (25.0)\n",
    "\n",
    "sigx_i = sigx * cos(theta)**2 + sigy * sin(theta)**2 + 2 * txy * sin(theta) * cos(theta)\n",
    "sigy_i = sigx * sin(theta)**2 + sigy * cos(theta)**2 - 2 * txy * sin(theta) * cos(theta)\n",
    "txy_i = (sigy - sigx) * sin(theta)  *cos(theta) + txy * (cos(theta)**2 - sin(theta)**2)\n",
    "\n",
    "print('Stress state (sigx_i, sigy_i, txy_i)=', sigx_i, sigy_i, txy_i, 'ksi')\n",
    "\n",
    "print('sigma_x = {:8.4f} ksi'.format(sigx))\n",
    "print('sigma_y = {:8.4f} ksi'.format(sigy))\n",
    "print('tau_xy = {:8.4f} ksi'.format(sigx))\n",
    "print('sigma_x_i = {:8.4f} ksi'.format(sigx))\n",
    "print('sigma_y_i = {:8.4f} ksi'.format(sigx))\n",
    "print('tau_xy_i = {:8.4f} ksi'.format(sigx))"
   ]
  },
  {
   "cell_type": "markdown",
   "metadata": {},
   "source": [
    "### Exercise 2\n",
    "\n",
    "Convert the calculation from exercise 1 to a function"
   ]
  },
  {
   "cell_type": "code",
   "execution_count": 13,
   "metadata": {},
   "outputs": [],
   "source": [
    "def stressTransform(sigx, sigy, txy, theta):\n",
    "    th = theta/180*pi\n",
    "    sigx_i = sigx * cos(th)**2 + sigy * sin(th)**2 + 2 * txy * sin(th) * cos(th)\n",
    "    sigy_i = sigx * sin(th)**2 + sigy * cos(th)**2 - 2 * txy * sin(th) * cos(th)\n",
    "    txy_i = (sigy - sigx) * sin(th)  *cos(th) + txy * (cos(th)**2 - sin(th)**2) \n",
    "    return (sigx_i, sigy_i, txy_i)"
   ]
  },
  {
   "cell_type": "markdown",
   "metadata": {},
   "source": [
    "Test your function for \n",
    "\n",
    "* $\\theta=0$ (what should the result look like?)\n",
    "* $\\theta=25^\\circ$\n",
    "* $\\theta=180^\\circ$"
   ]
  },
  {
   "cell_type": "code",
   "execution_count": 14,
   "metadata": {
    "scrolled": true
   },
   "outputs": [
    {
     "name": "stdout",
     "output_type": "stream",
     "text": [
      "Stress state (theta = 0°) = 12.0 ksi, \t \t -5.5 ksi, \t \t 3.5 ksi\n",
      "Stress state (theta = 25°) = 11.5555 ksi, \t -5.0555 ksi, \t \t -4.4531 ksi\n",
      "Stress state (theta = 180°) = 12.0 ksi, \t -5.5 ksi, \t \t 3.5 ksi\n"
     ]
    }
   ],
   "source": [
    "a,b,c = stressTransform(12.0,-5.5,3.5,0.0)\n",
    "d,e,f = stressTransform(12.0,-5.5,3.5,25.0)\n",
    "g,h,i = stressTransform(12.0,-5.5,3.5,180)                        \n",
    "                        \n",
    "print('Stress state (theta = 0°) = {} ksi, \\t \\t {} ksi, \\t \\t {} ksi'.format(round(a,4),round(b,4),round(c,4)))\n",
    "print('Stress state (theta = 25°) = {} ksi, \\t {} ksi, \\t \\t {} ksi'.format(round(d,4),round(e,4),round(f,4)))\n",
    "print('Stress state (theta = 180°) = {} ksi, \\t {} ksi, \\t \\t {} ksi'.format(round(g,4),round(h,4),round(i,4)))"
   ]
  },
  {
   "cell_type": "code",
   "execution_count": 15,
   "metadata": {},
   "outputs": [
    {
     "name": "stdout",
     "output_type": "stream",
     "text": [
      "Stress state (theta = 0°) sigx_i =  12.0000 ksi, sigy_i =  -5.5000 ksi, txy_i =   3.5000 ksi\n",
      "Stress state (theta = 25°) sigx_i =  11.5555 ksi, sigy_i =  -5.0555 ksi, txy_i =  -4.4531 ksi\n",
      "Stress state (theta = 180°) sigx_i =  12.0000 ksi, sigy_i =  -5.5000 ksi, txy_i =   3.5000 ksi\n"
     ]
    }
   ],
   "source": [
    "# you can't use the .format(stress) function on a tuple, you need to add an iterator before\n",
    "\n",
    "template = \"sigx_i = {:8.4f} ksi, sigy_i = {:8.4f} ksi, txy_i = {:8.4f} ksi\"\n",
    "\n",
    "stress = stressTransform(12.0,-5.5,3.5,0.0)\n",
    "print('Stress state (theta = 0°)', template.format(*stress))\n",
    "\n",
    "stress = stressTransform(12.0,-5.5,3.5,25.0)\n",
    "print('Stress state (theta = 25°)', template.format(*stress))\n",
    "\n",
    "stress = stressTransform(12.0,-5.5,3.5,180.0)\n",
    "print('Stress state (theta = 180°)', template.format(*stress))"
   ]
  },
  {
   "cell_type": "markdown",
   "metadata": {},
   "source": [
    "### Exercise 3\n",
    "\n",
    "Let's use this function to study stress transformation.  In order to do so,\n",
    "\n",
    "1. Create a list of 81 evenly spaced $\\theta$-values from $0^\\circ$ to $180^\\circ$.\n",
    "2. Compute the transformed stress for each of these values and collect the results in three lists: \n",
    "\n",
    "       sigmax_values = ...\n",
    "       sigmay_values = ...\n",
    "       tauxy_values = ...\n",
    "\n",
    "3. print a nice table with 4 columns: $\\theta$, $\\sigma_x'$, $\\sigma_y'$, $\\tau_{xy}'$"
   ]
  },
  {
   "cell_type": "code",
   "execution_count": 18,
   "metadata": {},
   "outputs": [],
   "source": [
    "sigmax_values = []\n",
    "sigmay_values = []\n",
    "tauxy_values = []"
   ]
  },
  {
   "cell_type": "code",
   "execution_count": 36,
   "metadata": {},
   "outputs": [
    {
     "name": "stdout",
     "output_type": "stream",
     "text": [
      "   theta \t \t sigmax \t \t   sigmay \t \t    tauxy\n",
      "-----------------------------------------------------------------------------------------------\n",
      "  0.0000 \t \t 12.0000 \t \t  -5.5000 \t \t   3.5000 \t \t\n",
      "  2.2500 \t \t 12.2476 \t \t  -5.7476 \t \t   2.8027 \t \t\n",
      "  4.5000 \t \t 12.4398 \t \t  -5.9398 \t \t   2.0881 \t \t\n",
      "  6.7500 \t \t 12.5753 \t \t  -6.0753 \t \t   1.3606 \t \t\n",
      "  9.0000 \t \t 12.6533 \t \t  -6.1533 \t \t   0.6248 \t \t\n",
      " 11.2500 \t \t 12.6733 \t \t  -6.1733 \t \t  -0.1149 \t \t\n",
      " 13.5000 \t \t 12.6353 \t \t  -6.1353 \t \t  -0.8539 \t \t\n",
      " 15.7500 \t \t 12.5393 \t \t  -6.0393 \t \t  -1.5876 \t \t\n",
      " 18.0000 \t \t 12.3861 \t \t  -5.8861 \t \t  -2.3116 \t \t\n",
      " 20.2500 \t \t 12.1766 \t \t  -5.6766 \t \t  -3.0212 \t \t\n",
      " 22.5000 \t \t 11.9121 \t \t  -5.4121 \t \t  -3.7123 \t \t\n",
      " 24.7500 \t \t 11.5941 \t \t  -5.0941 \t \t  -4.3805 \t \t\n",
      " 27.0000 \t \t 11.2247 \t \t  -4.7247 \t \t  -5.0217 \t \t\n",
      " 29.2500 \t \t 10.8061 \t \t  -4.3061 \t \t  -5.6319 \t \t\n",
      " 31.5000 \t \t 10.3409 \t \t  -3.8409 \t \t  -6.2073 \t \t\n",
      " 33.7500 \t \t  9.8321 \t \t  -3.3321 \t \t  -6.7446 \t \t\n",
      " 36.0000 \t \t  9.2826 \t \t  -2.7826 \t \t  -7.2402 \t \t\n",
      " 38.2500 \t \t  8.6959 \t \t  -2.1959 \t \t  -7.6912 \t \t\n",
      " 40.5000 \t \t  8.0757 \t \t  -1.5757 \t \t  -8.0948 \t \t\n",
      " 42.7500 \t \t  7.4257 \t \t  -0.9257 \t \t  -8.4484 \t \t\n",
      " 45.0000 \t \t  6.7500 \t \t  -0.2500 \t \t  -8.7500 \t \t\n",
      " 47.2500 \t \t  6.0527 \t \t   0.4473 \t \t  -8.9976 \t \t\n",
      " 49.5000 \t \t  5.3381 \t \t   1.1619 \t \t  -9.1898 \t \t\n",
      " 51.7500 \t \t  4.6106 \t \t   1.8894 \t \t  -9.3253 \t \t\n",
      " 54.0000 \t \t  3.8748 \t \t   2.6252 \t \t  -9.4033 \t \t\n",
      " 56.2500 \t \t  3.1351 \t \t   3.3649 \t \t  -9.4233 \t \t\n",
      " 58.5000 \t \t  2.3961 \t \t   4.1039 \t \t  -9.3853 \t \t\n",
      " 60.7500 \t \t  1.6624 \t \t   4.8376 \t \t  -9.2893 \t \t\n",
      " 63.0000 \t \t  0.9384 \t \t   5.5616 \t \t  -9.1361 \t \t\n",
      " 65.2500 \t \t  0.2288 \t \t   6.2712 \t \t  -8.9266 \t \t\n",
      " 67.5000 \t \t -0.4623 \t \t   6.9623 \t \t  -8.6621 \t \t\n",
      " 69.7500 \t \t -1.1305 \t \t   7.6305 \t \t  -8.3441 \t \t\n",
      " 72.0000 \t \t -1.7717 \t \t   8.2717 \t \t  -7.9747 \t \t\n",
      " 74.2500 \t \t -2.3819 \t \t   8.8819 \t \t  -7.5561 \t \t\n",
      " 76.5000 \t \t -2.9573 \t \t   9.4573 \t \t  -7.0909 \t \t\n",
      " 78.7500 \t \t -3.4946 \t \t   9.9946 \t \t  -6.5821 \t \t\n",
      " 81.0000 \t \t -3.9902 \t \t  10.4902 \t \t  -6.0326 \t \t\n",
      " 83.2500 \t \t -4.4412 \t \t  10.9412 \t \t  -5.4459 \t \t\n",
      " 85.5000 \t \t -4.8448 \t \t  11.3448 \t \t  -4.8257 \t \t\n",
      " 87.7500 \t \t -5.1984 \t \t  11.6984 \t \t  -4.1757 \t \t\n",
      " 90.0000 \t \t -5.5000 \t \t  12.0000 \t \t  -3.5000 \t \t\n",
      " 92.2500 \t \t -5.7476 \t \t  12.2476 \t \t  -2.8027 \t \t\n",
      " 94.5000 \t \t -5.9398 \t \t  12.4398 \t \t  -2.0881 \t \t\n",
      " 96.7500 \t \t -6.0753 \t \t  12.5753 \t \t  -1.3606 \t \t\n",
      " 99.0000 \t \t -6.1533 \t \t  12.6533 \t \t  -0.6248 \t \t\n",
      "101.2500 \t \t -6.1733 \t \t  12.6733 \t \t   0.1149 \t \t\n",
      "103.5000 \t \t -6.1353 \t \t  12.6353 \t \t   0.8539 \t \t\n",
      "105.7500 \t \t -6.0393 \t \t  12.5393 \t \t   1.5876 \t \t\n",
      "108.0000 \t \t -5.8861 \t \t  12.3861 \t \t   2.3116 \t \t\n",
      "110.2500 \t \t -5.6766 \t \t  12.1766 \t \t   3.0212 \t \t\n",
      "112.5000 \t \t -5.4121 \t \t  11.9121 \t \t   3.7123 \t \t\n",
      "114.7500 \t \t -5.0941 \t \t  11.5941 \t \t   4.3805 \t \t\n",
      "117.0000 \t \t -4.7247 \t \t  11.2247 \t \t   5.0217 \t \t\n",
      "119.2500 \t \t -4.3061 \t \t  10.8061 \t \t   5.6319 \t \t\n",
      "121.5000 \t \t -3.8409 \t \t  10.3409 \t \t   6.2073 \t \t\n",
      "123.7500 \t \t -3.3321 \t \t   9.8321 \t \t   6.7446 \t \t\n",
      "126.0000 \t \t -2.7826 \t \t   9.2826 \t \t   7.2402 \t \t\n",
      "128.2500 \t \t -2.1959 \t \t   8.6959 \t \t   7.6912 \t \t\n",
      "130.5000 \t \t -1.5757 \t \t   8.0757 \t \t   8.0948 \t \t\n",
      "132.7500 \t \t -0.9257 \t \t   7.4257 \t \t   8.4484 \t \t\n",
      "135.0000 \t \t -0.2500 \t \t   6.7500 \t \t   8.7500 \t \t\n",
      "137.2500 \t \t  0.4473 \t \t   6.0527 \t \t   8.9976 \t \t\n",
      "139.5000 \t \t  1.1619 \t \t   5.3381 \t \t   9.1898 \t \t\n",
      "141.7500 \t \t  1.8894 \t \t   4.6106 \t \t   9.3253 \t \t\n",
      "144.0000 \t \t  2.6252 \t \t   3.8748 \t \t   9.4033 \t \t\n",
      "146.2500 \t \t  3.3649 \t \t   3.1351 \t \t   9.4233 \t \t\n",
      "148.5000 \t \t  4.1039 \t \t   2.3961 \t \t   9.3853 \t \t\n",
      "150.7500 \t \t  4.8376 \t \t   1.6624 \t \t   9.2893 \t \t\n",
      "153.0000 \t \t  5.5616 \t \t   0.9384 \t \t   9.1361 \t \t\n",
      "155.2500 \t \t  6.2712 \t \t   0.2288 \t \t   8.9266 \t \t\n",
      "157.5000 \t \t  6.9623 \t \t  -0.4623 \t \t   8.6621 \t \t\n",
      "159.7500 \t \t  7.6305 \t \t  -1.1305 \t \t   8.3441 \t \t\n",
      "162.0000 \t \t  8.2717 \t \t  -1.7717 \t \t   7.9747 \t \t\n",
      "164.2500 \t \t  8.8819 \t \t  -2.3819 \t \t   7.5561 \t \t\n",
      "166.5000 \t \t  9.4573 \t \t  -2.9573 \t \t   7.0909 \t \t\n",
      "168.7500 \t \t  9.9946 \t \t  -3.4946 \t \t   6.5821 \t \t\n",
      "171.0000 \t \t 10.4902 \t \t  -3.9902 \t \t   6.0326 \t \t\n",
      "173.2500 \t \t 10.9412 \t \t  -4.4412 \t \t   5.4459 \t \t\n",
      "175.5000 \t \t 11.3448 \t \t  -4.8448 \t \t   4.8257 \t \t\n",
      "177.7500 \t \t 11.6984 \t \t  -5.1984 \t \t   4.1757 \t \t\n",
      "180.0000 \t \t 12.0000 \t \t  -5.5000 \t \t   3.5000 \t \t\n"
     ]
    }
   ],
   "source": [
    "theta = []\n",
    "\n",
    "print('   theta \\t \\t', 'sigmax \\t \\t', '  sigmay \\t \\t', '   tauxy')\n",
    "\n",
    "print('-----------------------------------------------------------------------------------------------')\n",
    "\n",
    "for i in range(81):\n",
    "    th = i*180/80\n",
    "    theta.append(th)\n",
    "    (a,b,c) = stressTransform(sigx, sigy, txy, th)\n",
    "    sigmax_values.append(a)\n",
    "    sigmay_values.append(b)\n",
    "    tauxy_values.append(c)\n",
    "    print(\"{:8.4f} \\t \\t{:8.4f} \\t \\t {:8.4f} \\t \\t {:8.4f} \\t \\t\".format(th,a,b,c))"
   ]
  },
  {
   "cell_type": "code",
   "execution_count": 39,
   "metadata": {},
   "outputs": [
    {
     "name": "stdout",
     "output_type": "stream",
     "text": [
      "  0.0000 \t \t 12.0000 \t \t  -5.5000 \t \t   3.5000 \t \t\n",
      "  2.2500 \t \t 12.2449 \t \t  -5.7449 \t \t   2.8114 \t \t\n",
      "  4.5000 \t \t 12.4357 \t \t  -5.9357 \t \t   2.1059 \t \t\n",
      "  6.7500 \t \t 12.5713 \t \t  -6.0713 \t \t   1.3878 \t \t\n",
      "  9.0000 \t \t 12.6508 \t \t  -6.1508 \t \t   0.6613 \t \t\n",
      " 11.2500 \t \t 12.6738 \t \t  -6.1738 \t \t  -0.0692 \t \t\n",
      " 13.5000 \t \t 12.6401 \t \t  -6.1401 \t \t  -0.7993 \t \t\n",
      " 15.7500 \t \t 12.5499 \t \t  -6.0499 \t \t  -1.5245 \t \t\n",
      " 18.0000 \t \t 12.4038 \t \t  -5.9038 \t \t  -2.2406 \t \t\n",
      " 20.2500 \t \t 12.2026 \t \t  -5.7026 \t \t  -2.9432 \t \t\n",
      " 22.5000 \t \t 11.9476 \t \t  -5.4476 \t \t  -3.6281 \t \t\n",
      " 24.7500 \t \t 11.6403 \t \t  -5.1403 \t \t  -4.2912 \t \t\n",
      " 27.0000 \t \t 11.2826 \t \t  -4.7826 \t \t  -4.9285 \t \t\n",
      " 29.2500 \t \t 10.8765 \t \t  -4.3765 \t \t  -5.5362 \t \t\n",
      " 31.5000 \t \t 10.4245 \t \t  -3.9245 \t \t  -6.1105 \t \t\n",
      " 33.7500 \t \t  9.9295 \t \t  -3.4295 \t \t  -6.6481 \t \t\n",
      " 36.0000 \t \t  9.3942 \t \t  -2.8942 \t \t  -7.1457 \t \t\n",
      " 38.2500 \t \t  8.8220 \t \t  -2.3220 \t \t  -7.6004 \t \t\n",
      " 40.5000 \t \t  8.2162 \t \t  -1.7162 \t \t  -8.0093 \t \t\n",
      " 42.7500 \t \t  7.5807 \t \t  -1.0807 \t \t  -8.3701 \t \t\n",
      " 45.0000 \t \t  6.9190 \t \t  -0.4190 \t \t  -8.6805 \t \t\n",
      " 47.2500 \t \t  6.2353 \t \t   0.2647 \t \t  -8.9387 \t \t\n",
      " 49.5000 \t \t  5.5337 \t \t   0.9663 \t \t  -9.1432 \t \t\n",
      " 51.7500 \t \t  4.8183 \t \t   1.6817 \t \t  -9.2926 \t \t\n",
      " 54.0000 \t \t  4.0934 \t \t   2.4066 \t \t  -9.3862 \t \t\n",
      " 56.2500 \t \t  3.3635 \t \t   3.1365 \t \t  -9.4234 \t \t\n",
      " 58.5000 \t \t  2.6330 \t \t   3.8670 \t \t  -9.4038 \t \t\n",
      " 60.7500 \t \t  1.9061 \t \t   4.5939 \t \t  -9.3277 \t \t\n",
      " 63.0000 \t \t  1.1873 \t \t   5.3127 \t \t  -9.1955 \t \t\n",
      " 65.2500 \t \t  0.4809 \t \t   6.0191 \t \t  -9.0080 \t \t\n",
      " 67.5000 \t \t -0.2088 \t \t   6.7088 \t \t  -8.7664 \t \t\n",
      " 69.7500 \t \t -0.8777 \t \t   7.3777 \t \t  -8.4720 \t \t\n",
      " 72.0000 \t \t -1.5218 \t \t   8.0218 \t \t  -8.1266 \t \t\n",
      " 74.2500 \t \t -2.1372 \t \t   8.6372 \t \t  -7.7324 \t \t\n",
      " 76.5000 \t \t -2.7202 \t \t   9.2202 \t \t  -7.2917 \t \t\n",
      " 78.7500 \t \t -3.2673 \t \t   9.7673 \t \t  -6.8071 \t \t\n",
      " 81.0000 \t \t -3.7752 \t \t  10.2752 \t \t  -6.2816 \t \t\n",
      " 83.2500 \t \t -4.2409 \t \t  10.7409 \t \t  -5.7183 \t \t\n",
      " 85.5000 \t \t -4.6615 \t \t  11.1615 \t \t  -5.1206 \t \t\n",
      " 87.7500 \t \t -5.0345 \t \t  11.5345 \t \t  -4.4921 \t \t\n",
      " 90.0000 \t \t -5.3577 \t \t  11.8577 \t \t  -3.8367 \t \t\n",
      " 92.2500 \t \t -5.6291 \t \t  12.1291 \t \t  -3.1581 \t \t\n",
      " 94.5000 \t \t -5.8472 \t \t  12.3472 \t \t  -2.4605 \t \t\n",
      " 96.7500 \t \t -6.0105 \t \t  12.5105 \t \t  -1.7482 \t \t\n",
      " 99.0000 \t \t -6.1181 \t \t  12.6181 \t \t  -1.0253 \t \t\n",
      "101.2500 \t \t -6.1694 \t \t  12.6694 \t \t  -0.2962 \t \t\n",
      "103.5000 \t \t -6.1640 \t \t  12.6640 \t \t   0.4346 \t \t\n",
      "105.7500 \t \t -6.1020 \t \t  12.6020 \t \t   1.1628 \t \t\n",
      "108.0000 \t \t -5.9838 \t \t  12.4838 \t \t   1.8840 \t \t\n",
      "110.2500 \t \t -5.8100 \t \t  12.3100 \t \t   2.5939 \t \t\n",
      "112.5000 \t \t -5.5818 \t \t  12.0818 \t \t   3.2882 \t \t\n",
      "114.7500 \t \t -5.3004 \t \t  11.8004 \t \t   3.9627 \t \t\n",
      "117.0000 \t \t -4.9676 \t \t  11.4676 \t \t   4.6134 \t \t\n",
      "119.2500 \t \t -4.5854 \t \t  11.0854 \t \t   5.2363 \t \t\n",
      "121.5000 \t \t -4.1561 \t \t  10.6561 \t \t   5.8277 \t \t\n",
      "123.7500 \t \t -3.6822 \t \t  10.1822 \t \t   6.3841 \t \t\n",
      "126.0000 \t \t -3.1666 \t \t   9.6666 \t \t   6.9021 \t \t\n",
      "128.2500 \t \t -2.6125 \t \t   9.1125 \t \t   7.3786 \t \t\n",
      "130.5000 \t \t -2.0231 \t \t   8.5231 \t \t   7.8107 \t \t\n",
      "132.7500 \t \t -1.4020 \t \t   7.9020 \t \t   8.1958 \t \t\n",
      "135.0000 \t \t -0.7528 \t \t   7.2528 \t \t   8.5317 \t \t\n",
      "137.2500 \t \t -0.0797 \t \t   6.5797 \t \t   8.8162 \t \t\n",
      "139.5000 \t \t  0.6135 \t \t   5.8865 \t \t   9.0477 \t \t\n",
      "141.7500 \t \t  1.3226 \t \t   5.1774 \t \t   9.2248 \t \t\n",
      "144.0000 \t \t  2.0432 \t \t   4.4568 \t \t   9.3465 \t \t\n",
      "146.2500 \t \t  2.7712 \t \t   3.7288 \t \t   9.4119 \t \t\n",
      "148.5000 \t \t  3.5019 \t \t   2.9981 \t \t   9.4207 \t \t\n",
      "150.7500 \t \t  4.2312 \t \t   2.2688 \t \t   9.3728 \t \t\n",
      "153.0000 \t \t  4.9546 \t \t   1.5454 \t \t   9.2686 \t \t\n",
      "155.2500 \t \t  5.6677 \t \t   0.8323 \t \t   9.1086 \t \t\n",
      "157.5000 \t \t  6.3663 \t \t   0.1337 \t \t   8.8939 \t \t\n",
      "159.7500 \t \t  7.0461 \t \t  -0.5461 \t \t   8.6257 \t \t\n",
      "162.0000 \t \t  7.7031 \t \t  -1.2031 \t \t   8.3055 \t \t\n",
      "164.2500 \t \t  8.3334 \t \t  -1.8334 \t \t   7.9355 \t \t\n",
      "166.5000 \t \t  8.9330 \t \t  -2.4330 \t \t   7.5177 \t \t\n",
      "168.7500 \t \t  9.4985 \t \t  -2.9985 \t \t   7.0547 \t \t\n",
      "171.0000 \t \t 10.0264 \t \t  -3.5264 \t \t   6.5493 \t \t\n",
      "173.2500 \t \t 10.5135 \t \t  -4.0135 \t \t   6.0045 \t \t\n",
      "175.5000 \t \t 10.9570 \t \t  -4.4570 \t \t   5.4235 \t \t\n",
      "177.7500 \t \t 11.3541 \t \t  -4.8541 \t \t   4.8100 \t \t\n",
      "180.0000 \t \t 11.7025 \t \t  -5.2025 \t \t   4.1675 \t \t\n"
     ]
    }
   ],
   "source": [
    "for item in zip(theta, sigmax_values, sigmay_values, tauxy_values):\n",
    "    print(\"{:8.4f} \\t \\t{:8.4f} \\t \\t {:8.4f} \\t \\t {:8.4f} \\t \\t\".format(*item)) \n",
    "\n",
    "# zip is used make a list of lists\n",
    "# the loop takes each i item of each list and lists it in a row\n",
    "# with the print function i can print "
   ]
  },
  {
   "cell_type": "markdown",
   "metadata": {},
   "source": [
    "### Exercise 4: Explore plotting in python\n",
    "\n",
    "For this, check out https://matplotlib.org/3.1.1/gallery/lines_bars_and_markers/simple_plot.html#sphx-glr-gallery-lines-bars-and-markers-simple-plot-py\n",
    "\n",
    "I copied the demo code below so you can modify it to plot $(\\sigma_{x}'/\\tau_{xy}')$ and  $(\\sigma_{y}'/-\\tau_{xy}')$ curves from the data collected in `sigmax_values`, `sigmay_values`, `tauxy_values`"
   ]
  },
  {
   "cell_type": "code",
   "execution_count": null,
   "metadata": {},
   "outputs": [],
   "source": [
    "import matplotlib\n",
    "import matplotlib.pyplot as plt\n",
    "import numpy as np\n",
    "\n",
    "# Data for plotting\n",
    "t = np.arange(0.0, 2.0, 0.01)\n",
    "s = 1 + np.sin(2 * np.pi * t)\n",
    "\n",
    "fig, ax = plt.subplots()\n",
    "ax.plot(t, s)\n",
    "\n",
    "ax.set(xlabel='time (s)', ylabel='voltage (mV)',\n",
    "       title='About as simple as it gets, folks')\n",
    "ax.grid()\n",
    "\n",
    "# I comment writing the figure to file ... makes this quicker\n",
    "# fig.savefig(\"test.png\")\n",
    "plt.show()"
   ]
  },
  {
   "cell_type": "markdown",
   "metadata": {},
   "source": [
    "**Remark**: This was just to wet your appetite! We will talk much more about `numpy` and `matplotlib` next week."
   ]
  },
  {
   "cell_type": "markdown",
   "metadata": {},
   "source": [
    "## Exercise 5: List versus dictionary\n",
    "\n",
    "You could express the stress state as\n",
    "\n",
    "1. three independent variables - the way we did it thus far\n",
    "\n",
    "2. a list of three values: `stress = `$[\\sigma_x, \\sigma_y, \\tau_{xy}]$ and replace\n",
    "\n",
    "        sigma_x --> stress[0]\n",
    "        sigma_y --> stress[2]\n",
    "        tau_xy  --> stress[3]\n",
    "        \n",
    "3. a dictionary \n",
    "\n",
    "        stress = {'sigx': 12.0, 'sigy': -5.5, 'tau':3.50}\n",
    "        \n",
    "   and replace\n",
    "\n",
    "        sigma_x --> stress['sigx']\n",
    "        sigma_y --> stress['sigy']\n",
    "        tau_xy  --> stress['tau']\n",
    "\n",
    "**Discuss**:\n",
    "\n",
    "1. Pros and cons for coding the equations\n",
    "2. Pros and cons for coding the function(s)\n",
    "3. How woud code and function change when switching from 2D to 3D (6 components instead of 3 components)\n",
    "\n",
    "Feel free to implement an alternative form of stressTrannsform() that looks like this:"
   ]
  },
  {
   "cell_type": "code",
   "execution_count": null,
   "metadata": {},
   "outputs": [],
   "source": [
    "def stressTransform(stress, theta):\n",
    "    # YOUR CODE\n",
    "    # stress2 is a list or dictionary, just as stress is\n",
    "    \n",
    "    return stress2"
   ]
  },
  {
   "cell_type": "code",
   "execution_count": null,
   "metadata": {},
   "outputs": [],
   "source": []
  },
  {
   "cell_type": "markdown",
   "metadata": {},
   "source": [
    "## Homework questions\n",
    "\n",
    "We can all learn from your questions!"
   ]
  },
  {
   "cell_type": "code",
   "execution_count": null,
   "metadata": {},
   "outputs": [],
   "source": []
  }
 ],
 "metadata": {
  "kernelspec": {
   "display_name": "Python 3",
   "language": "python",
   "name": "python3"
  },
  "language_info": {
   "codemirror_mode": {
    "name": "ipython",
    "version": 3
   },
   "file_extension": ".py",
   "mimetype": "text/x-python",
   "name": "python",
   "nbconvert_exporter": "python",
   "pygments_lexer": "ipython3",
   "version": "3.7.8"
  }
 },
 "nbformat": 4,
 "nbformat_minor": 4
}
